{
  "nbformat": 4,
  "nbformat_minor": 0,
  "metadata": {
    "colab": {
      "provenance": [],
      "authorship_tag": "ABX9TyNeIOC161Y7+Jr7eEQeAzzL",
      "include_colab_link": true
    },
    "kernelspec": {
      "name": "python3",
      "display_name": "Python 3"
    },
    "language_info": {
      "name": "python"
    }
  },
  "cells": [
    {
      "cell_type": "markdown",
      "metadata": {
        "id": "view-in-github",
        "colab_type": "text"
      },
      "source": [
        "<a href=\"https://colab.research.google.com/github/Pt-home/Notebooks/blob/main/Nomades2_0_03_%D0%A6%D0%B5%D0%BF%D0%B8_%D0%9C%D0%B0%D1%80%D0%BA%D0%BE%D0%B2%D0%B0_%D0%BD%D0%B0_nltk_%D0%B1%D0%B5%D0%BB%D1%8B%D0%B5_%D1%81%D1%82%D0%B8%D1%85%D0%B8.ipynb\" target=\"_parent\"><img src=\"https://colab.research.google.com/assets/colab-badge.svg\" alt=\"Open In Colab\"/></a>"
      ]
    },
    {
      "cell_type": "code",
      "execution_count": 1,
      "metadata": {
        "id": "7MYPnNlaJjaJ",
        "colab": {
          "base_uri": "https://localhost:8080/"
        },
        "outputId": "0df2ef50-2d1b-4ecb-ef8e-a5ec37c36429"
      },
      "outputs": [
        {
          "output_type": "stream",
          "name": "stdout",
          "text": [
            "Looking in indexes: https://pypi.org/simple, https://us-python.pkg.dev/colab-wheels/public/simple/\n",
            "Requirement already satisfied: nltk in /usr/local/lib/python3.10/dist-packages (3.8.1)\n",
            "Requirement already satisfied: click in /usr/local/lib/python3.10/dist-packages (from nltk) (8.1.3)\n",
            "Requirement already satisfied: joblib in /usr/local/lib/python3.10/dist-packages (from nltk) (1.2.0)\n",
            "Requirement already satisfied: regex>=2021.8.3 in /usr/local/lib/python3.10/dist-packages (from nltk) (2022.10.31)\n",
            "Requirement already satisfied: tqdm in /usr/local/lib/python3.10/dist-packages (from nltk) (4.65.0)\n"
          ]
        }
      ],
      "source": [
        "#!pip install numpy\n",
        "!pip install nltk"
      ]
    },
    {
      "cell_type": "code",
      "source": [
        "f = 'sample_data/brodsky_poetry.txt'"
      ],
      "metadata": {
        "id": "sG4AJJdfRzvg"
      },
      "execution_count": 2,
      "outputs": []
    },
    {
      "cell_type": "code",
      "source": [
        "import re\n",
        "\n",
        "# Load the text data\n",
        "with open(f, \"r\", encoding='utf8') as file:\n",
        "    text = file.read()\n",
        "    \n",
        "text = text.upper()\n",
        "\n",
        "while text.find('  ') != -1:\n",
        "  text = re.sub(r'  ', ' ', text)\n",
        "while text.find('--') != -1:\n",
        "  text = re.sub(r'--', '-', text)\n",
        "\n",
        "text = re.sub(r'\\s-\\s', ' — ', text)\n",
        "text = re.sub(r'[^-А-ЯЁ—\\s]', '', text)"
      ],
      "metadata": {
        "id": "EjtBjfO2Wtl5"
      },
      "execution_count": 4,
      "outputs": []
    },
    {
      "cell_type": "code",
      "source": [
        "#Подсчет пробелов\n",
        "def count_syllables(word):\n",
        "    answer = 0\n",
        "    for el in \"УЕЫАОЭЯИЮЁ\":\n",
        "        answer += word.count(el)\n",
        "    return answer"
      ],
      "metadata": {
        "id": "VPl7MKfZuAy1"
      },
      "execution_count": 5,
      "outputs": []
    },
    {
      "cell_type": "code",
      "source": [
        "import nltk\n",
        "nltk.download('punkt')\n",
        "\n",
        "import random"
      ],
      "metadata": {
        "colab": {
          "base_uri": "https://localhost:8080/"
        },
        "id": "btIw5D7hR5q4",
        "outputId": "1d98d280-08a5-46e2-e8e6-1ea69d1d8475"
      },
      "execution_count": 6,
      "outputs": [
        {
          "output_type": "stream",
          "name": "stderr",
          "text": [
            "[nltk_data] Downloading package punkt to /root/nltk_data...\n",
            "[nltk_data]   Unzipping tokenizers/punkt.zip.\n"
          ]
        }
      ]
    },
    {
      "cell_type": "markdown",
      "source": [
        "BIGRAMMS"
      ],
      "metadata": {
        "id": "YuBKHYkfm_M0"
      }
    },
    {
      "cell_type": "code",
      "source": [
        "# Define the Markov model\n",
        "premodel = nltk.probability.ConditionalFreqDist()\n",
        "\n",
        "words = nltk.word_tokenize(text)\n",
        "\n",
        "for i in range(len(words)-1):\n",
        "    premodel[words[i]][words[i+1]] += 1"
      ],
      "metadata": {
        "id": "o5rbzZD4cRUt"
      },
      "execution_count": 7,
      "outputs": []
    },
    {
      "cell_type": "code",
      "source": [
        "model = nltk.ConditionalProbDist(premodel, nltk.MLEProbDist)\n",
        "len(model)\n"
      ],
      "metadata": {
        "colab": {
          "base_uri": "https://localhost:8080/"
        },
        "id": "9KadPvI0fL3s",
        "outputId": "ecf53b4d-a641-49be-ab13-342e18c5c10e"
      },
      "execution_count": 8,
      "outputs": [
        {
          "output_type": "execute_result",
          "data": {
            "text/plain": [
              "38288"
            ]
          },
          "metadata": {},
          "execution_count": 8
        }
      ]
    },
    {
      "cell_type": "code",
      "source": [
        "def generate_poem(model, num_lines, num_syllables, start_condition):\n",
        "     \n",
        "    # Создаем список для хранения сгенерированных строк\n",
        "    lines = []\n",
        "\n",
        "    # Создаем начальное условие \n",
        "    condition = start_condition\n",
        "    \n",
        "    # Генерируем каждую строку\n",
        "    for i in range(num_lines):\n",
        "\n",
        "        if i == 0: #If this start line\n",
        "            line_words = [condition]\n",
        "            line_syllables = count_syllables(condition)\n",
        "        else:\n",
        "            line_words = []\n",
        "            line_syllables = 0\n",
        "\n",
        "        # Генерируем строку, пока количество слогов не достигнет заданного значения\n",
        "        while line_syllables < num_syllables:\n",
        "\n",
        "            # Получаем вероятностное распределение для следующего слова и генерируем его\n",
        "            word = model[condition].generate()\n",
        "\n",
        "            # Считаем количество слогов в слове\n",
        "            syllable_count = count_syllables(word)\n",
        "            \n",
        "            # Если количество слогов превышает оставшееся количество для строки, то выбираем новое слово КОСТЫЛЬ\n",
        "            if line_syllables + syllable_count > num_syllables:\n",
        "                condition = random.choice(list(model.conditions()))\n",
        "                continue\n",
        "\n",
        "            # Добавляем слово в строку и увеличиваем количество слогов\n",
        "            line_words.append(word)\n",
        "            line_syllables += syllable_count\n",
        "                        \n",
        "            # Обновляем текущее условие для следующей генерации\n",
        "            condition = word\n",
        "\n",
        "       # Добавляем строку в список\n",
        "        lines.append(' '.join(line_words))\n",
        "        \n",
        "    # Возвращаем сгенерированные строки\n",
        "    return lines"
      ],
      "metadata": {
        "id": "EoTrrVpJvb73"
      },
      "execution_count": 10,
      "outputs": []
    },
    {
      "cell_type": "code",
      "source": [
        "num_lines = 4\n",
        "num_syllables = 16\n",
        "\n",
        "# Создаем начальное условие из случайных слов в модели\n",
        "start_condition = random.choice(list(model.conditions()))\n",
        "\n",
        "#Генерируем\n",
        "poem = generate_poem(model, num_lines, num_syllables, start_condition)\n",
        "\n",
        "#Выводим\n",
        "for line in poem:\n",
        "    print(line)"
      ],
      "metadata": {
        "colab": {
          "base_uri": "https://localhost:8080/"
        },
        "id": "7fNIi0vSWAV4",
        "outputId": "e7e0a377-59d2-4741-c436-72833b32a560"
      },
      "execution_count": 11,
      "outputs": [
        {
          "output_type": "stream",
          "name": "stdout",
          "text": [
            "КЛИНОПИСЬ МЫСЛЕЙ БЕШЕНЫХ ВОПРОСОВ КАК СТРАННО ТЕБЯ\n",
            "И Я ГОТОВ ОТТОГО И СЕРПАХ Я ЧЕМ МУСКУЛИСТЕЙ\n",
            "КОРНИ ВЦЕПЛЯЮТСЯ В НЕБО БУДЕТ МОГУЧ И ВЕСЛАМИ\n",
            "ПО ПОДОЛУ БАБЫ ПРЯЧУТ ПРЕКРАСНЫХ ВИДЕНИЙ ЖИВОЙ\n"
          ]
        }
      ]
    },
    {
      "cell_type": "code",
      "source": [
        "num_lines = 4\n",
        "num_syllables = 16\n",
        "\n",
        "# Создаем начальное условие из случайных слов в модели\n",
        "start_condition = \"НЫНЧЕ\"\n",
        "\n",
        "#Генерируем\n",
        "poem = generate_poem(model, num_lines, num_syllables, start_condition)\n",
        "\n",
        "#Выводим\n",
        "for line in poem:\n",
        "    print(line)"
      ],
      "metadata": {
        "colab": {
          "base_uri": "https://localhost:8080/"
        },
        "outputId": "f6ca63e0-f0a6-4192-967c-645065f86e4e",
        "id": "z7T4Q06BXIgn"
      },
      "execution_count": 12,
      "outputs": [
        {
          "output_type": "stream",
          "name": "stdout",
          "text": [
            "НЫНЧЕ МНЕ ЛЬ ОДНО ИЗ ФАНЕРЫ В ИНДИЮ ТИГРЫ ИЛИ\n",
            "ЖИВ ТО СТАРИТ ТО ЧТО ЭХА А МУЗЫКА ГРЕМЕЛА НА\n",
            "МЕСТО СТАВИТ МИКЕЛИНУ РАКОМ ЭХ ТОПОРИК В ЛЕСУ\n",
            "НЕТ ЗЕМНОЙ ЯНВАРЯ — ЦВЕТКОМ В ЗЕРКАЛЕ ТВОРЯЩЕЕСЯ\n"
          ]
        }
      ]
    },
    {
      "cell_type": "markdown",
      "source": [
        "TRIGRAMS"
      ],
      "metadata": {
        "id": "1_COx4qknFOq"
      }
    },
    {
      "cell_type": "code",
      "source": [
        "# Define the Markov model\n",
        "premodel = nltk.probability.ConditionalFreqDist()\n",
        "\n",
        "words = nltk.word_tokenize(text)\n",
        "\n",
        "for i in range(len(words)-2):\n",
        "    key = words[i] + \" \" + words[i+1]\n",
        "    premodel[key][words[i+2]] += 1"
      ],
      "metadata": {
        "id": "GJQ1ptQtbQX9"
      },
      "execution_count": 13,
      "outputs": []
    },
    {
      "cell_type": "code",
      "source": [
        "model = nltk.ConditionalProbDist(premodel, nltk.MLEProbDist)\n",
        "len(model)"
      ],
      "metadata": {
        "colab": {
          "base_uri": "https://localhost:8080/"
        },
        "id": "vcxKquDacvRP",
        "outputId": "54603af8-1f1b-45cc-eb71-ea7257f7c175"
      },
      "execution_count": 14,
      "outputs": [
        {
          "output_type": "execute_result",
          "data": {
            "text/plain": [
              "129684"
            ]
          },
          "metadata": {},
          "execution_count": 14
        }
      ]
    },
    {
      "cell_type": "code",
      "source": [
        "def generate_poem_tri(model, num_lines, num_syllables, start_condition):\n",
        "     \n",
        "    # Создаем список для хранения сгенерированных строк\n",
        "    lines = []\n",
        "\n",
        "    # Создаем начальное условие \n",
        "    condition = start_condition\n",
        "\n",
        "    # Создаем список всех слов\n",
        "    all_words = condition.split()\n",
        "    \n",
        "    # Генерируем каждую строку\n",
        "    for i in range(num_lines):\n",
        "\n",
        "        if i == 0: #If this start line\n",
        "            line_words = condition.split()\n",
        "            line_syllables = count_syllables(line_words[-2]) + count_syllables(line_words[-1]) \n",
        "        else:\n",
        "            line_words = []\n",
        "            line_syllables = 0\n",
        "\n",
        "        # Генерируем строку, пока количество слогов не достигнет заданного значения\n",
        "        while line_syllables < num_syllables:\n",
        "\n",
        "            # Получаем вероятностное распределение для следующего слова и генерируем его\n",
        "            word = model[condition].generate()\n",
        "\n",
        "            # Считаем количество слогов в слове\n",
        "            syllable_count = count_syllables(word)\n",
        "            \n",
        "            # Если количество слогов превышает оставшееся количество для строки, то выбираем новое слово КОСТЫЛЬ\n",
        "            if line_syllables + syllable_count > num_syllables:\n",
        "                condition = random.choice(list(model.conditions()))\n",
        "                all_words = all_words[:-2] + condition.split()\n",
        "                continue\n",
        "\n",
        "            # Добавляем слово в строку и увеличиваем количество слогов\n",
        "            line_words.append(word)\n",
        "            all_words.append(word)\n",
        "            line_syllables += syllable_count\n",
        "                        \n",
        "            # Обновляем текущее условие для следующей генерации\n",
        "            condition = all_words[-2] + \" \" + all_words[-1]\n",
        "\n",
        "       # Добавляем строку в список\n",
        "        lines.append(' '.join(line_words))\n",
        "        \n",
        "    # Возвращаем сгенерированные строки\n",
        "    return lines"
      ],
      "metadata": {
        "id": "k0lHwi0CcVb3"
      },
      "execution_count": 15,
      "outputs": []
    },
    {
      "cell_type": "code",
      "source": [
        "num_lines = 4\n",
        "num_syllables = 16\n",
        "\n",
        "# Создаем начальное условие из случайных слов в модели\n",
        "start_condition = random.choice(list(model.conditions()))\n",
        "\n",
        "#Генерируем\n",
        "poem = generate_poem_tri(model, num_lines, num_syllables, start_condition)\n",
        "\n",
        "#Выводим\n",
        "for line in poem:\n",
        "    print(line)"
      ],
      "metadata": {
        "colab": {
          "base_uri": "https://localhost:8080/"
        },
        "id": "POgVRHulfl_F",
        "outputId": "38d9d97e-abf9-4637-fbe6-b74824f78888"
      },
      "execution_count": 19,
      "outputs": [
        {
          "output_type": "stream",
          "name": "stdout",
          "text": [
            "ГЛАЗАМ СМОТРЕТЬ НЕВМОЧЬ КАК КРАЙ СТЕКЛА ЗАЛИТЫЙ СВЕТОМ ВЗОР\n",
            "ЗАЛИТЫЙ ТЬМОЙ КАДЫК ЗАПЕРТЫЙ ОТ ГОСТЕЙ С ВЕЧНЫМ ПРОФИЛЬ\n",
            "БЛЕДНЕЙ ГРЕХА ЗАЛИВАЯ ГЛАЗА НА СЕКУНДУ ЗВУКА\n",
            "ТАК ДОВОЛЬНО СПИЧКИ ЧТОБЫ РАЗЖЕЧЬ ПЛИТУ ТАК СТЕННЫЕ\n"
          ]
        }
      ]
    },
    {
      "cell_type": "code",
      "source": [
        "num_lines = 4\n",
        "num_syllables = 16\n",
        "\n",
        "# Создаем начальное условие из случайных слов в модели\n",
        "start_condition = \"НЫНЧЕ ВЕТРЕНО\"\n",
        "\n",
        "#Генерируем\n",
        "poem = generate_poem_tri(model, num_lines, num_syllables, start_condition)\n",
        "\n",
        "#Выводим\n",
        "for line in poem:\n",
        "    print(line)"
      ],
      "metadata": {
        "colab": {
          "base_uri": "https://localhost:8080/"
        },
        "id": "bPJ_0NzsgqPi",
        "outputId": "d1320f37-0bc4-4ad8-a513-463de0c4f63b"
      },
      "execution_count": 21,
      "outputs": [
        {
          "output_type": "stream",
          "name": "stdout",
          "text": [
            "НЫНЧЕ ВЕТРЕНО И ВОЛНЫ ОТ ПУТИ ТО ВВЕРХ ТО ВНИЗ КАК\n",
            "МЛАДЕНЦУ ТОГДА В ВИФЛЕЕМЕ ВСЕ БЫЛО ВПРАВДУ ВСЕ В ИХ\n",
            "ГИБРИДЕ ВИДИТЕ ЛИ БЫЛ ДОВОЛЬНО СТРАННЫМ И КРУГУ\n",
            "СКВОЗЬ РОЩУ И ГАТЬ И ДОЛГО ПОЛЗ ПОТОМ НУ В СМЫСЛЕ НА СТОЛ\n"
          ]
        }
      ]
    },
    {
      "cell_type": "markdown",
      "source": [
        "4-GRAMMS"
      ],
      "metadata": {
        "id": "z8BPwhFusPDv"
      }
    },
    {
      "cell_type": "code",
      "source": [
        "# Define the Markov model\n",
        "premodel = nltk.probability.ConditionalFreqDist()\n",
        "\n",
        "words = nltk.word_tokenize(text)\n",
        "\n",
        "for i in range(len(words)-3):\n",
        "    key = words[i] + \" \" + words[i+1] + \" \" + words[i+2]\n",
        "    premodel[key][words[i+3]] += 1"
      ],
      "metadata": {
        "id": "IVSTY8rzhW-d"
      },
      "execution_count": 22,
      "outputs": []
    },
    {
      "cell_type": "code",
      "source": [
        "model = nltk.ConditionalProbDist(premodel, nltk.MLEProbDist)\n",
        "len(model)"
      ],
      "metadata": {
        "colab": {
          "base_uri": "https://localhost:8080/"
        },
        "outputId": "e2ab6c8e-b504-46e3-a764-c0057a5554dc",
        "id": "Dxl7Vrb5jJOR"
      },
      "execution_count": 23,
      "outputs": [
        {
          "output_type": "execute_result",
          "data": {
            "text/plain": [
              "159539"
            ]
          },
          "metadata": {},
          "execution_count": 23
        }
      ]
    },
    {
      "cell_type": "code",
      "source": [
        "def generate_poem_quad(model, num_lines, num_syllables, start_condition):\n",
        "     \n",
        "    # Создаем список для хранения сгенерированных строк\n",
        "    lines = []\n",
        "\n",
        "    # Создаем начальное условие \n",
        "    condition = start_condition\n",
        "\n",
        "    # Создаем список всех слов\n",
        "    all_words = condition.split()\n",
        "    \n",
        "    # Генерируем каждую строку\n",
        "    for i in range(num_lines):\n",
        "\n",
        "        if i == 0: #If this start line\n",
        "            line_words = condition.split()\n",
        "            line_syllables = count_syllables(line_words[-3]) + count_syllables(line_words[-2]) + count_syllables(line_words[-1]) \n",
        "        else:\n",
        "            line_words = []\n",
        "            line_syllables = 0\n",
        "\n",
        "        # Генерируем строку, пока количество слогов не достигнет заданного значения\n",
        "        while line_syllables < num_syllables:\n",
        "\n",
        "            # Получаем вероятностное распределение для следующего слова и генерируем его\n",
        "            word = model[condition].generate()\n",
        "\n",
        "            # Считаем количество слогов в слове\n",
        "            syllable_count = count_syllables(word)\n",
        "            \n",
        "            # Если количество слогов превышает оставшееся количество для строки, то выбираем новое слово КОСТЫЛЬ\n",
        "            if line_syllables + syllable_count > num_syllables:\n",
        "                condition = random.choice(list(model.conditions()))\n",
        "                all_words = all_words[:-3] + condition.split()\n",
        "                continue\n",
        "\n",
        "            # Добавляем слово в строку и увеличиваем количество слогов\n",
        "            line_words.append(word)\n",
        "            all_words.append(word)\n",
        "            line_syllables += syllable_count\n",
        "                        \n",
        "            # Обновляем текущее условие для следующей генерации\n",
        "            condition = all_words[-3] + \" \" + all_words[-2] + \" \" + all_words[-1]\n",
        "\n",
        "       # Добавляем строку в список\n",
        "        lines.append(' '.join(line_words))\n",
        "        \n",
        "    # Возвращаем сгенерированные строки\n",
        "    return lines"
      ],
      "metadata": {
        "id": "s_qCT5ZAjyH2"
      },
      "execution_count": 25,
      "outputs": []
    },
    {
      "cell_type": "code",
      "source": [
        "num_lines = 4\n",
        "num_syllables = 16\n",
        "\n",
        "# Создаем начальное условие из случайных слов в модели\n",
        "start_condition = random.choice(list(model.conditions()))\n",
        "\n",
        "#Генерируем\n",
        "poem = generate_poem_quad(model, num_lines, num_syllables, start_condition)\n",
        "\n",
        "#Выводим\n",
        "for line in poem:\n",
        "    print(line)"
      ],
      "metadata": {
        "colab": {
          "base_uri": "https://localhost:8080/"
        },
        "id": "YTTf3Hu0kld0",
        "outputId": "cffbb96c-1aed-4b35-be77-c0211a5c5f0b"
      },
      "execution_count": 27,
      "outputs": [
        {
          "output_type": "stream",
          "name": "stdout",
          "text": [
            "НЕБЕС ПО ЗАСТЫВШЕЙ ТРАВЕ МИМО ЧЕРНЫХ КУСТОВ ХРАНИТ\n",
            "ОТВЕТ ИРИНА Я СЛУШАЮ ВЗГЛЯНИ-КА СЮДА НИЧЬЯ\n",
            "И БОЛЬШАК РАЗВЕЗЛО ХОТЬ БЕРИ ВЕСЛО УРОНИЛ ЕСТЬ ТА\n",
            "ЧЕРТА ЧТО ПО КРАЙНЕЙ МЕРЕ ОБЪЕДИНЯЕТ Е С И МОЙ\n"
          ]
        }
      ]
    },
    {
      "cell_type": "code",
      "source": [
        "num_lines = 4\n",
        "num_syllables = 16\n",
        "\n",
        "# Создаем начальное условие из случайных слов в модели\n",
        "start_condition = \"НЫНЧЕ ВЕТРЕНО И\"\n",
        "\n",
        "#Генерируем\n",
        "poem = generate_poem_quad(model, num_lines, num_syllables, start_condition)\n",
        "\n",
        "#Выводим\n",
        "for line in poem:\n",
        "    print(line)"
      ],
      "metadata": {
        "colab": {
          "base_uri": "https://localhost:8080/"
        },
        "outputId": "33386276-6d96-4024-bad3-0bcc507c6265",
        "id": "xxTYzJPJlOZ1"
      },
      "execution_count": 29,
      "outputs": [
        {
          "output_type": "stream",
          "name": "stdout",
          "text": [
            "НЫНЧЕ ВЕТРЕНО И ВОЛНЫ С ПЕРЕХЛЕСТОМ СКОРО ОСЕНЬ\n",
            "ВСЕ ИЗМЕНИТСЯ В ОКРУГЕ СМЕНА КРАСОК ЭТИХ ТЕМ МЫСЛЬ\n",
            "О КАМУФЛЯЖЕ ТАМ НА КРЕСТЕ НЕ ВОЗОПЛЮ ПОЧТО ТОЙ\n",
            "СВЕЧИ ЧТО ВСЕМИ ИСААКОМ ПРЕЖДЕ ЗВАЛАСЬ И ЗВУК ЛИ\n"
          ]
        }
      ]
    }
  ]
}