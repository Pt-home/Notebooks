{
  "nbformat": 4,
  "nbformat_minor": 0,
  "metadata": {
    "colab": {
      "provenance": [],
      "include_colab_link": true
    },
    "kernelspec": {
      "name": "python3",
      "display_name": "Python 3"
    },
    "language_info": {
      "name": "python"
    }
  },
  "cells": [
    {
      "cell_type": "markdown",
      "metadata": {
        "id": "view-in-github",
        "colab_type": "text"
      },
      "source": [
        "<a href=\"https://colab.research.google.com/github/Pt-home/Notebooks/blob/main/Nomades2_0_Rashid_02.ipynb\" target=\"_parent\"><img src=\"https://colab.research.google.com/assets/colab-badge.svg\" alt=\"Open In Colab\"/></a>"
      ]
    },
    {
      "cell_type": "code",
      "source": [
        "import numpy\n",
        "# библиотека scipy.special содержит сигмоиду expit()\n",
        "import scipy.special\n",
        "import matplotlib.pyplot\n",
        "%matplotlib inline"
      ],
      "metadata": {
        "id": "uo9X1Kg96cc_"
      },
      "execution_count": 1,
      "outputs": []
    },
    {
      "cell_type": "code",
      "execution_count": 2,
      "metadata": {
        "id": "XGT7rXEVzWGg"
      },
      "outputs": [],
      "source": [
        "# определение класса нейронной сети class neuralNetwork:\n",
        "class neuralNetwork:\n",
        "\n",
        "  def __init__(self, inputnodes, hiddennodes, outputnodes, learningrate) :\n",
        "    # задать количество узлов во входном, скрытом и выходном слое\n",
        "    self.inodes = inputnodes\n",
        "    self.hnodes = hiddennodes\n",
        "    self.onodes = outputnodes\n",
        "\n",
        "    # коэффициент обучения\n",
        "    self.lr = learningrate\n",
        "\n",
        "    #матрицы весов\n",
        "    self.wih = numpy.random.rand(self.hnodes, self.inodes) - 0.5\n",
        "    self.who = numpy.random.rand(self.onodes, self.hnodes) - 0.5\n",
        "    #self.wih = numpy.random.normal(0.0, pow(self.hnodes, -0.5), (self.hnodes, self.inodes))\n",
        "    #self.who = numpy.random.normal(0.0, pow(self.onodes, -0.5), (self.onodes, self.hnodes))\n",
        "\n",
        "    # использование сигмоиды в качестве функции активации\n",
        "    self.activation_function = lambda x: scipy.special.expit(x)\n",
        "\n",
        "  def train(self, inputs_list, targets_list):\n",
        "\n",
        "    # Прямой проход\n",
        "\n",
        "    # преобразовать список входных значений в двухмерный массив\n",
        "    inputs =  numpy.array(inputs_list, ndmin = 2).T\n",
        "    targets = numpy.array(targets_list, ndmin = 2).T\n",
        "\n",
        "    # рассчитать входящие сигналы для скрытого слоя\n",
        "    hidden_inputs = numpy.dot(self.wih, inputs)\n",
        "    # рассчитать исходящие сигналы для скрытого слоя\n",
        "    hidden_outputs = self.activation_function(hidden_inputs)\n",
        "\n",
        "    # рассчитать входящие сигналы для выходного слоя\n",
        "    final_inputs = numpy.dot(self.who, hidden_outputs)\n",
        "    # рассчитать исходящие сигналы для выходного слоя\n",
        "    final_outputs = self.activation_function(final_inputs)\n",
        "\n",
        "    # Анализ и коррекция весов\n",
        "\n",
        "    # ошибка = целевое значение - фактическое значение\n",
        "    output_errors = targets - final_outputs\n",
        "\n",
        "    # ошибки скрытого слоя - это ошибки output_errors, распределенные пропорционально весовым коэффициентам связей и рекомбинированные на скрытых узлах\n",
        "    hidden_errors = numpy.dot(self.who.T, output_errors)\n",
        "\n",
        "    # обновить весовые коэффициенты связей между скрытым и выходным слоями\n",
        "    self.who += self.lr * numpy.dot((output_errors * final_outputs * (1.0 - final_outputs)), numpy.transpose(hidden_outputs))\n",
        "    # обновить весовые коэффициенты связей между входным и скрытым слоями\n",
        "    self.wih += self.lr * numpy.dot((hidden_errors * hidden_outputs * (1.0 - hidden_outputs)), numpy.transpose(inputs))\n",
        "\n",
        "  def query(self, inputs_list):\n",
        "    # преобразовать список входных значений в двухмерный массив\n",
        "    inputs = numpy.array(inputs_list, ndmin = 2).T\n",
        "\n",
        "    # рассчитать входящие сигналы для скрытого слоя\n",
        "    hidden_inputs = numpy.dot(self.wih, inputs)\n",
        "    # рассчитать исходящие сигналы для скрытого слоя\n",
        "    hidden_outputs = self.activation_function(hidden_inputs)\n",
        "\n",
        "    # рассчитать входящие сигналы для выходного слоя\n",
        "    final_inputs = numpy.dot(self.who, hidden_outputs)\n",
        "    # рассчитать исходящие сигналы для выходного слоя\n",
        "    final_outputs = self.activation_function(final_inputs)\n",
        "\n",
        "    return final_outputs\n",
        "\n"
      ]
    },
    {
      "cell_type": "code",
      "source": [
        "# количество входных, скрытых и выходных узлов\n",
        "input_nodes = 784\n",
        "hidden_nodes = 100\n",
        "output_nodes = 10\n",
        "# коэффициент обучения равен 0,2\n",
        "learning_rate = 0.2"
      ],
      "metadata": {
        "id": "q-rExmIw23tP"
      },
      "execution_count": 27,
      "outputs": []
    },
    {
      "cell_type": "code",
      "source": [
        "# создать экземпляр нейронной сети\n",
        "n = neuralNetwork(input_nodes, hidden_nodes, output_nodes, learning_rate)"
      ],
      "metadata": {
        "id": "GPcbv6Hs4R8n"
      },
      "execution_count": 28,
      "outputs": []
    },
    {
      "cell_type": "code",
      "source": [
        "# загрузить в список тестовый набор данных CSV-файла набора MNIST\n",
        "training_data_file = open(\"mnist_train.csv\", \"r\")\n",
        "training_data_list = training_data_file.readlines()\n",
        "training_data_file.close()"
      ],
      "metadata": {
        "id": "XQhMlR4COwKv"
      },
      "execution_count": 29,
      "outputs": []
    },
    {
      "cell_type": "code",
      "source": [
        "# тренировка нейронной сети\n",
        "\n",
        "# перебрать все записи в тренировочном наборе данных\n",
        "for record in training_data_list:\n",
        "\n",
        "  # получить список значений, используя символы запятой (1,1) в качестве разделителей\n",
        "  all_values = record.split(\",\")\n",
        "\n",
        "  # масштабировать и сместить входные значения\n",
        "  inputs = (numpy.asfarray(all_values[1:]) / 255.0 * 0.99) + 0.01\n",
        "\n",
        "  # создать целевые выходные значения (все равны 0,01, за исключением желаемого маркерного значения, равного 0,99)\n",
        "  targets = numpy.zeros(output_nodes) + 0.01\n",
        "  index = int(all_values[0])\n",
        "  targets[index] = 0.99\n",
        "\n",
        "  n.train(inputs, targets)"
      ],
      "metadata": {
        "id": "Gl0SzfihWMpY"
      },
      "execution_count": 30,
      "outputs": []
    },
    {
      "cell_type": "code",
      "source": [
        "# загрузить в список тестовый набор данных CSV-файла набора MNIST\n",
        "test_data_file = open(\"mnist_test.csv\", 'r')\n",
        "test_data_list = test_data_file.readlines()\n",
        "test_data_file.close()"
      ],
      "metadata": {
        "id": "fdLlE80uFVDX"
      },
      "execution_count": 31,
      "outputs": []
    },
    {
      "cell_type": "code",
      "source": [
        "# тестирование нейронной сети\n",
        "\n",
        "# журнал оценок работы сети, первоначально пустой\n",
        "scorecard = []\n",
        "# перебрать все записи в тестовом наборе данных\n",
        "for record in test_data_list:\n",
        "\n",
        "  # получить список значений, используя символы запятой (1,1) в качестве разделителей\n",
        "  all_values = record.split(\",\")\n",
        "  # масштабировать и сместить входные значения\n",
        "  inputs = (numpy.asfarray(all_values[1:]) / 255.0 * 0.99) + 0.01\n",
        "\n",
        "  outputs = n.query(inputs)\n",
        "\n",
        "  # индекс наибольшего значения является маркерным значением\n",
        "  label = numpy.argmax(outputs)\n",
        "  correct_label = int(all_values[0])\n",
        "\n",
        "  if correct_label==label:\n",
        "    scorecard.append(1)\n",
        "  else:\n",
        "    scorecard.append(0)\n",
        "\n",
        "print(f\"Эффективность: {sum(scorecard) / len(scorecard)}\")"
      ],
      "metadata": {
        "colab": {
          "base_uri": "https://localhost:8080/"
        },
        "id": "9VnVKfy_HKAR",
        "outputId": "dc14298c-42b3-40f2-b13f-a6ecb2a2bbb6"
      },
      "execution_count": 32,
      "outputs": [
        {
          "output_type": "stream",
          "name": "stdout",
          "text": [
            "Эффективность: 0.9527\n"
          ]
        }
      ]
    }
  ]
}