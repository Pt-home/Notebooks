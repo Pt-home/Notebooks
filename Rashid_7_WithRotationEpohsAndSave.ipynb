{
  "nbformat": 4,
  "nbformat_minor": 0,
  "metadata": {
    "colab": {
      "provenance": [],
      "gpuType": "T4",
      "authorship_tag": "ABX9TyM+gDkX439NVQXKEHDS1+g7",
      "include_colab_link": true
    },
    "kernelspec": {
      "name": "python3",
      "display_name": "Python 3"
    },
    "language_info": {
      "name": "python"
    },
    "accelerator": "GPU"
  },
  "cells": [
    {
      "cell_type": "markdown",
      "metadata": {
        "id": "view-in-github",
        "colab_type": "text"
      },
      "source": [
        "<a href=\"https://colab.research.google.com/github/Pt-home/Notebooks/blob/main/Rashid_7_WithRotationEpohsAndSave.ipynb\" target=\"_parent\"><img src=\"https://colab.research.google.com/assets/colab-badge.svg\" alt=\"Open In Colab\"/></a>"
      ]
    },
    {
      "cell_type": "code",
      "source": [
        "import numpy\n",
        "import scipy.special\n",
        "import scipy.ndimage\n",
        "import matplotlib.pyplot as plt\n",
        "%matplotlib inline"
      ],
      "metadata": {
        "id": "mYRN8-R3H5oj"
      },
      "execution_count": 4,
      "outputs": []
    },
    {
      "cell_type": "code",
      "execution_count": 5,
      "metadata": {
        "id": "S7EjLLfdFtRG"
      },
      "outputs": [],
      "source": [
        "class neuralNetwork:\n",
        "\n",
        "  def __init__(self, inputnodes, hiddennodes, outputnodes, learningrate):\n",
        "    self.inodes = inputnodes\n",
        "    self.hnodes = hiddennodes\n",
        "    self.onodes = outputnodes\n",
        "\n",
        "    self.lr = learningrate\n",
        "\n",
        "    self.wih = (numpy.random.rand(self.hnodes, self.inodes) - 0.5)\n",
        "    self.who = (numpy.random.rand(self.onodes, self.hnodes) - 0.5)\n",
        "\n",
        "    self.activation_function = lambda x: scipy.special.expit(x)\n",
        "\n",
        "  def train(self, inputs_list, targets_list):\n",
        "    # inputs -> matrix\n",
        "    inputs = numpy.array(inputs_list, ndmin=2).T\n",
        "    targets = numpy.array(targets_list, ndmin=2).T\n",
        "\n",
        "    #input for hidden\n",
        "    hidden_inputs = numpy.dot(self.wih, inputs)\n",
        "    #output at hidden\n",
        "    hidden_outputs = self.activation_function(hidden_inputs)\n",
        "\n",
        "    #input for final\n",
        "    final_inputs = numpy.dot(self.who, hidden_outputs)\n",
        "    #output at final\n",
        "    final_outputs = self.activation_function(final_inputs)\n",
        "\n",
        "    #output_errors\n",
        "    output_errors = targets - final_outputs\n",
        "\n",
        "    #hidden_errors\n",
        "    hidden_errors = numpy.dot(self.who.T, output_errors)\n",
        "\n",
        "    #refresh who\n",
        "    self.who += self.lr * numpy.dot(output_errors*final_outputs*(1-final_outputs), numpy.transpose(hidden_outputs))\n",
        "\n",
        "    #refresh wih\n",
        "    self.wih += self.lr * numpy.dot(hidden_errors*hidden_outputs*(1-hidden_outputs), numpy.transpose(inputs))\n",
        "\n",
        "  def query(self, inputs_list):\n",
        "    # input -> matrix\n",
        "    inputs = numpy.array(inputs_list, ndmin=2).T\n",
        "\n",
        "    #input for hidden\n",
        "    hidden_inputs = numpy.dot(self.wih, inputs)\n",
        "    #output at hidden\n",
        "    hidden_outputs = self.activation_function(hidden_inputs)\n",
        "\n",
        "    #input for final\n",
        "    final_inputs = numpy.dot(self.who, hidden_outputs)\n",
        "    #output at final\n",
        "    final_outputs = self.activation_function(final_inputs)\n",
        "\n",
        "    return  final_outputs\n",
        "\n",
        "\n"
      ]
    },
    {
      "cell_type": "code",
      "source": [
        "inputnodes = 28 * 28\n",
        "hiddennodes = 300\n",
        "outputnodes = 10\n",
        "\n",
        "learningrate = 0.1\n",
        "\n",
        "epochs = 5\n",
        "\n",
        "n = neuralNetwork(inputnodes, hiddennodes, outputnodes, learningrate)"
      ],
      "metadata": {
        "id": "CTTIF4uQG_2z"
      },
      "execution_count": 6,
      "outputs": []
    },
    {
      "cell_type": "code",
      "source": [
        "#Training"
      ],
      "metadata": {
        "id": "EIh89r4RH_Kx"
      },
      "execution_count": null,
      "outputs": []
    },
    {
      "cell_type": "code",
      "source": [
        "training_data_file = open(\"mnist_train.csv\", \"r\")\n",
        "training_data_list = training_data_file.readlines()\n",
        "training_data_file.close()"
      ],
      "metadata": {
        "id": "cv2e5MalQCuE"
      },
      "execution_count": 7,
      "outputs": []
    },
    {
      "cell_type": "code",
      "source": [
        "for e in range(epochs):\n",
        "  print(f\"Epochs: {e+1}\")\n",
        "  for record in training_data_list:\n",
        "\n",
        "    all_values = record.split(\",\")\n",
        "    inputs = (numpy.asarray(all_values[1:], dtype=float)/255.0 * 0.99) + 0.01\n",
        "    targets = numpy.zeros(outputnodes) + 0.01\n",
        "    targets[int(all_values[0])] = 0.99\n",
        "    n.train(inputs, targets)\n",
        "\n",
        "    plus_img = scipy.ndimage.interpolation.rotate(inputs.reshape(28,28),\n",
        "                                                10, cval=0.01,\n",
        "                                                order=1, reshape=False)\n",
        "    n.train(plus_img.reshape(28*28), targets)\n",
        "    minus_img = scipy.ndimage.interpolation.rotate(inputs.reshape(28,28),\n",
        "                                                -10, cval=0.01,\n",
        "                                                order=1, reshape=False)\n",
        "    n.train(minus_img.reshape(28*28), targets)"
      ],
      "metadata": {
        "id": "tOm5ZXxRQSkV",
        "colab": {
          "base_uri": "https://localhost:8080/"
        },
        "outputId": "2a769aba-da86-4bea-d614-ad66bf861827"
      },
      "execution_count": 9,
      "outputs": [
        {
          "output_type": "stream",
          "name": "stdout",
          "text": [
            "Epochs: 1\n"
          ]
        },
        {
          "output_type": "stream",
          "name": "stderr",
          "text": [
            "<ipython-input-9-85324e4afb21>:11: DeprecationWarning: Please import `rotate` from the `scipy.ndimage` namespace; the `scipy.ndimage.interpolation` namespace is deprecated and will be removed in SciPy 2.0.0.\n",
            "  plus_img = scipy.ndimage.interpolation.rotate(inputs.reshape(28,28),\n",
            "<ipython-input-9-85324e4afb21>:15: DeprecationWarning: Please import `rotate` from the `scipy.ndimage` namespace; the `scipy.ndimage.interpolation` namespace is deprecated and will be removed in SciPy 2.0.0.\n",
            "  minus_img = scipy.ndimage.interpolation.rotate(inputs.reshape(28,28),\n"
          ]
        },
        {
          "output_type": "stream",
          "name": "stdout",
          "text": [
            "Epochs: 2\n",
            "Epochs: 3\n",
            "Epochs: 4\n",
            "Epochs: 5\n"
          ]
        }
      ]
    },
    {
      "cell_type": "code",
      "source": [
        "#Testing"
      ],
      "metadata": {
        "id": "F1SPbHKITyLM"
      },
      "execution_count": null,
      "outputs": []
    },
    {
      "cell_type": "code",
      "source": [
        "test_data_file = open(\"mnist_test.csv\", \"r\")\n",
        "test_data_list = test_data_file.readlines()\n",
        "test_data_file.close()"
      ],
      "metadata": {
        "id": "FXOwpuhdT0Ba"
      },
      "execution_count": 10,
      "outputs": []
    },
    {
      "cell_type": "code",
      "source": [
        "scoreboard = []\n",
        "\n",
        "for record in test_data_list:\n",
        "\n",
        "  all_values = record.split(\",\")\n",
        "\n",
        "  correct_label = int(all_values[0])\n",
        "\n",
        "  inputs = (numpy.asarray(all_values[1:], dtype=float)/255.0 * 0.99) + 0.01\n",
        "\n",
        "  outputs = n.query(inputs)\n",
        "\n",
        "  label = numpy.argmax(outputs)\n",
        "  if label == correct_label:\n",
        "     scoreboard.append(1)\n",
        "  else:\n",
        "     scoreboard.append(0)\n",
        "\n",
        "scoreboard_array = numpy.asarray(scoreboard)\n",
        "print(\"Эффективность: \", scoreboard_array.sum() / scoreboard_array.size )"
      ],
      "metadata": {
        "colab": {
          "base_uri": "https://localhost:8080/"
        },
        "id": "QrdHY79HT_QT",
        "outputId": "c128ec11-12d1-4389-bc1b-7b63510ad2b7"
      },
      "execution_count": 11,
      "outputs": [
        {
          "output_type": "stream",
          "name": "stdout",
          "text": [
            "Эффективность:  0.9708\n"
          ]
        }
      ]
    },
    {
      "cell_type": "code",
      "source": [
        "n.wih.shape"
      ],
      "metadata": {
        "colab": {
          "base_uri": "https://localhost:8080/"
        },
        "id": "f6_LiREqghip",
        "outputId": "cd2568fe-e95c-4dac-ad26-9c3f8b36b75c"
      },
      "execution_count": null,
      "outputs": [
        {
          "output_type": "execute_result",
          "data": {
            "text/plain": [
              "(300, 784)"
            ]
          },
          "metadata": {},
          "execution_count": 8
        }
      ]
    },
    {
      "cell_type": "code",
      "source": [
        "wih  = n.wih.flatten()\n",
        "wih = list(wih)\n",
        "len(wih)"
      ],
      "metadata": {
        "colab": {
          "base_uri": "https://localhost:8080/"
        },
        "id": "Y1LzRZVbgp54",
        "outputId": "477b451b-9581-4b1f-ccf7-b8b2d01778cf"
      },
      "execution_count": null,
      "outputs": [
        {
          "output_type": "execute_result",
          "data": {
            "text/plain": [
              "235200"
            ]
          },
          "metadata": {},
          "execution_count": 9
        }
      ]
    },
    {
      "cell_type": "code",
      "source": [
        "n.who.shape"
      ],
      "metadata": {
        "colab": {
          "base_uri": "https://localhost:8080/"
        },
        "id": "oDaKQjOag-kY",
        "outputId": "6685fa5d-2afb-450d-82e5-a17abed228bb"
      },
      "execution_count": null,
      "outputs": [
        {
          "output_type": "execute_result",
          "data": {
            "text/plain": [
              "(10, 300)"
            ]
          },
          "metadata": {},
          "execution_count": 10
        }
      ]
    },
    {
      "cell_type": "code",
      "source": [
        "who  = n.who.flatten()\n",
        "who = list(who)\n",
        "len(who)"
      ],
      "metadata": {
        "colab": {
          "base_uri": "https://localhost:8080/"
        },
        "id": "823dkkZjhEZw",
        "outputId": "2fc9ff90-f7c6-4bfc-fd47-b52565ddcf06"
      },
      "execution_count": null,
      "outputs": [
        {
          "output_type": "execute_result",
          "data": {
            "text/plain": [
              "3000"
            ]
          },
          "metadata": {},
          "execution_count": 11
        }
      ]
    },
    {
      "cell_type": "code",
      "source": [
        "f = open(f\"wih_rot_{hiddennodes}_{learningrate}_{epochs}.dat\", \"w\")\n",
        "for i in range(len(wih)-1):\n",
        "  f.write(f\"{wih[i]}, \")\n",
        "f.write(f\"{wih[-1]}\")\n",
        "f.close()"
      ],
      "metadata": {
        "id": "QCXRbLUzhPNJ"
      },
      "execution_count": null,
      "outputs": []
    },
    {
      "cell_type": "code",
      "source": [
        "f = open(f\"who_rot_{hiddennodes}_{learningrate}_{epochs}.dat\", \"w\")\n",
        "for i in range(len(who)-1):\n",
        "  f.write(f\"{who[i]}, \")\n",
        "f.write(f\"{who[-1]}\")\n",
        "f.close()"
      ],
      "metadata": {
        "id": "ppoqXhXsiCUh"
      },
      "execution_count": null,
      "outputs": []
    }
  ]
}