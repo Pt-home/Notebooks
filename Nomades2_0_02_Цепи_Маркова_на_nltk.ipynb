{
  "nbformat": 4,
  "nbformat_minor": 0,
  "metadata": {
    "colab": {
      "provenance": [],
      "authorship_tag": "ABX9TyNT57UfjPbhyhO3GJZmFJiK",
      "include_colab_link": true
    },
    "kernelspec": {
      "name": "python3",
      "display_name": "Python 3"
    },
    "language_info": {
      "name": "python"
    }
  },
  "cells": [
    {
      "cell_type": "markdown",
      "metadata": {
        "id": "view-in-github",
        "colab_type": "text"
      },
      "source": [
        "<a href=\"https://colab.research.google.com/github/Pt-home/Notebooks/blob/main/Nomades2_0_02_%D0%A6%D0%B5%D0%BF%D0%B8_%D0%9C%D0%B0%D1%80%D0%BA%D0%BE%D0%B2%D0%B0_%D0%BD%D0%B0_nltk.ipynb\" target=\"_parent\"><img src=\"https://colab.research.google.com/assets/colab-badge.svg\" alt=\"Open In Colab\"/></a>"
      ]
    },
    {
      "cell_type": "code",
      "execution_count": 1,
      "metadata": {
        "id": "7MYPnNlaJjaJ",
        "colab": {
          "base_uri": "https://localhost:8080/"
        },
        "outputId": "4c624ee2-f94e-4419-efdb-b86980093b8b"
      },
      "outputs": [
        {
          "output_type": "stream",
          "name": "stdout",
          "text": [
            "Looking in indexes: https://pypi.org/simple, https://us-python.pkg.dev/colab-wheels/public/simple/\n",
            "Requirement already satisfied: nltk in /usr/local/lib/python3.10/dist-packages (3.8.1)\n",
            "Requirement already satisfied: click in /usr/local/lib/python3.10/dist-packages (from nltk) (8.1.3)\n",
            "Requirement already satisfied: joblib in /usr/local/lib/python3.10/dist-packages (from nltk) (1.2.0)\n",
            "Requirement already satisfied: regex>=2021.8.3 in /usr/local/lib/python3.10/dist-packages (from nltk) (2022.10.31)\n",
            "Requirement already satisfied: tqdm in /usr/local/lib/python3.10/dist-packages (from nltk) (4.65.0)\n"
          ]
        }
      ],
      "source": [
        "#!pip install numpy\n",
        "#!pip install nltk"
      ]
    },
    {
      "cell_type": "code",
      "source": [
        "f = 'sample_data/brodsky_poetry.txt'"
      ],
      "metadata": {
        "id": "sG4AJJdfRzvg"
      },
      "execution_count": 2,
      "outputs": []
    },
    {
      "cell_type": "code",
      "source": [
        "import re\n",
        "\n",
        "# Load the text data\n",
        "with open(f, \"r\", encoding='utf8') as file:\n",
        "    text = file.read()\n",
        "    \n",
        "text = text.upper()\n",
        "\n",
        "while text.find('  ') != -1:\n",
        "  text = re.sub(r'  ', ' ', text)\n",
        "while text.find('--') != -1:\n",
        "  text = re.sub(r'--', '-', text)\n",
        "\n",
        "text = re.sub(r'\\s-\\s', ' — ', text)\n",
        "text = re.sub(r'[^-А-ЯЁ—\\s]', '', text)"
      ],
      "metadata": {
        "id": "EjtBjfO2Wtl5"
      },
      "execution_count": 3,
      "outputs": []
    },
    {
      "cell_type": "code",
      "source": [
        "import nltk\n",
        "nltk.download('punkt')\n",
        "\n",
        "import random"
      ],
      "metadata": {
        "colab": {
          "base_uri": "https://localhost:8080/"
        },
        "id": "btIw5D7hR5q4",
        "outputId": "fb8ef1e3-833d-4499-85f6-069b295391ba"
      },
      "execution_count": 15,
      "outputs": [
        {
          "output_type": "stream",
          "name": "stderr",
          "text": [
            "[nltk_data] Downloading package punkt to /root/nltk_data...\n",
            "[nltk_data]   Package punkt is already up-to-date!\n"
          ]
        }
      ]
    },
    {
      "cell_type": "markdown",
      "source": [
        "BIGRAMMS"
      ],
      "metadata": {
        "id": "YuBKHYkfm_M0"
      }
    },
    {
      "cell_type": "code",
      "source": [
        "# Define the Markov model\n",
        "premodel = nltk.probability.ConditionalFreqDist()\n",
        "\n",
        "words = nltk.word_tokenize(text)\n",
        "\n",
        "for i in range(len(words)-1):\n",
        "    premodel[words[i]][words[i+1]] += 1"
      ],
      "metadata": {
        "id": "o5rbzZD4cRUt"
      },
      "execution_count": 16,
      "outputs": []
    },
    {
      "cell_type": "code",
      "source": [
        "#start_word = random.choice(list(premodel.keys()))\n",
        "#print(start_word)\n",
        "start_word = \"ПАСТУХ\"\n",
        "premodel[start_word]"
      ],
      "metadata": {
        "colab": {
          "base_uri": "https://localhost:8080/"
        },
        "id": "DRBM_KwLSewI",
        "outputId": "bf9afe84-a7e5-44ad-938a-415976f2fba9"
      },
      "execution_count": 17,
      "outputs": [
        {
          "output_type": "execute_result",
          "data": {
            "text/plain": [
              "FreqDist({'ШАТРЫ': 1, 'ЛИЦО': 1, 'В': 1, 'И': 1, 'ЧЕТВЕРОНОГОЙ': 1})"
            ]
          },
          "metadata": {},
          "execution_count": 17
        }
      ]
    },
    {
      "cell_type": "code",
      "source": [
        "model = nltk.ConditionalProbDist(premodel, nltk.MLEProbDist)\n",
        "len(model)\n"
      ],
      "metadata": {
        "colab": {
          "base_uri": "https://localhost:8080/"
        },
        "id": "9KadPvI0fL3s",
        "outputId": "8cbf3482-da46-4a1b-b395-c83a99218f88"
      },
      "execution_count": 18,
      "outputs": [
        {
          "output_type": "execute_result",
          "data": {
            "text/plain": [
              "38288"
            ]
          },
          "metadata": {},
          "execution_count": 18
        }
      ]
    },
    {
      "cell_type": "code",
      "source": [
        "start_word = \"НЕ\"\n",
        "model[start_word]"
      ],
      "metadata": {
        "colab": {
          "base_uri": "https://localhost:8080/"
        },
        "id": "LcXEDVY8VB4g",
        "outputId": "c554c21b-c300-42fb-c3c0-4bb1c7cd836d"
      },
      "execution_count": 22,
      "outputs": [
        {
          "output_type": "execute_result",
          "data": {
            "text/plain": [
              "<MLEProbDist based on 3351 samples>"
            ]
          },
          "metadata": {},
          "execution_count": 22
        }
      ]
    },
    {
      "cell_type": "code",
      "source": [
        "N = 10\n",
        "\n",
        "# Generate a new sentence\n",
        "start_word = random.choice(list(model.keys()))\n",
        "\n",
        "sentence = [start_word]\n",
        "\n",
        "while len(sentence) < N:\n",
        "    next_word = model[sentence[-1]].generate()\n",
        "    sentence.append(next_word)\n",
        "\n",
        "print(\" \".join(sentence))"
      ],
      "metadata": {
        "colab": {
          "base_uri": "https://localhost:8080/"
        },
        "id": "7fNIi0vSWAV4",
        "outputId": "00e77552-6e8f-4d57-c113-06413083218b"
      },
      "execution_count": 24,
      "outputs": [
        {
          "output_type": "stream",
          "name": "stdout",
          "text": [
            "ОТКРЫТЬЮ ИНФАРКТИКИ — НАБЕКРЕНЬ СТРЕЛОЧНИК СОННЫХ ОКРУГ ЗАСЫПАЯ ВО МГЛЕ\n"
          ]
        }
      ]
    },
    {
      "cell_type": "code",
      "source": [
        "N = 30\n",
        "\n",
        "start_word = \"НЫНЧЕ\"\n",
        "\n",
        "sentence = [start_word]\n",
        "\n",
        "while len(sentence) < N:\n",
        "    next_word = model[sentence[-1]].generate()\n",
        "    sentence.append(next_word)\n",
        "\n",
        "print(\" \".join(sentence))"
      ],
      "metadata": {
        "colab": {
          "base_uri": "https://localhost:8080/"
        },
        "outputId": "26ded35d-7bbb-41bc-f4fd-aaeb232500f3",
        "id": "z7T4Q06BXIgn"
      },
      "execution_count": 25,
      "outputs": [
        {
          "output_type": "stream",
          "name": "stdout",
          "text": [
            "НЫНЧЕ БЕЗ — ПОДОБНЫЙ ГОСТЬ ГОСТЬ В ПЯТНО МНОГОТОЧИЯ СКОБКИ ТЯГОТЕНЬЯ ВРАЩЕНИЮ БЛЮДЕЦ ПОЛНО ГОВОРИТЬ ЕМУ — И СМАХНУВ С РАСПУТИЦЕЮ ВИТЯЗЬ ЧЕМ НА СТОЛЕ БУКЕТ НА ОРБИТЕ ОТНЮДЬ НЕ\n"
          ]
        }
      ]
    },
    {
      "cell_type": "markdown",
      "source": [
        "TRIGRAMS"
      ],
      "metadata": {
        "id": "1_COx4qknFOq"
      }
    },
    {
      "cell_type": "code",
      "source": [
        "# Define the Markov model\n",
        "premodel = nltk.probability.ConditionalFreqDist()\n",
        "\n",
        "words = nltk.word_tokenize(text)\n",
        "\n",
        "for i in range(len(words)-2):\n",
        "    key = words[i] + \" \" + words[i+1]\n",
        "    premodel[key][words[i+2]] += 1"
      ],
      "metadata": {
        "id": "GJQ1ptQtbQX9"
      },
      "execution_count": 26,
      "outputs": []
    },
    {
      "cell_type": "code",
      "source": [
        "start_pair = \"ВЕТРЕНО И\"\n",
        "premodel[start_pair]"
      ],
      "metadata": {
        "colab": {
          "base_uri": "https://localhost:8080/"
        },
        "id": "bzC-7CHGb4sG",
        "outputId": "17b0a7e9-423c-448b-d985-f52d3ab7c81d"
      },
      "execution_count": 36,
      "outputs": [
        {
          "output_type": "execute_result",
          "data": {
            "text/plain": [
              "FreqDist({'ВЕЧНО': 1, 'ВОЛНЫ': 1})"
            ]
          },
          "metadata": {},
          "execution_count": 36
        }
      ]
    },
    {
      "cell_type": "code",
      "source": [
        "model = nltk.ConditionalProbDist(premodel, nltk.MLEProbDist)\n",
        "len(model)"
      ],
      "metadata": {
        "colab": {
          "base_uri": "https://localhost:8080/"
        },
        "id": "vcxKquDacvRP",
        "outputId": "e14da7dc-834c-45d0-c5fc-869744cc7d31"
      },
      "execution_count": 31,
      "outputs": [
        {
          "output_type": "execute_result",
          "data": {
            "text/plain": [
              "129684"
            ]
          },
          "metadata": {},
          "execution_count": 31
        }
      ]
    },
    {
      "cell_type": "code",
      "source": [
        "#start_pair = \"СПИТ ГОРОД\"\n",
        "start_pair = \"ГОРОД СПИТ\"\n",
        "model[start_pair]"
      ],
      "metadata": {
        "colab": {
          "base_uri": "https://localhost:8080/"
        },
        "id": "11FBGaFSdFrN",
        "outputId": "f61416a3-29b2-47c7-9e1e-930afa360589"
      },
      "execution_count": 33,
      "outputs": [
        {
          "output_type": "execute_result",
          "data": {
            "text/plain": [
              "<MLEProbDist based on 2 samples>"
            ]
          },
          "metadata": {},
          "execution_count": 33
        }
      ]
    },
    {
      "cell_type": "code",
      "source": [
        "N = 10\n",
        "\n",
        "# Generate a new sentence\n",
        "start_pair = random.choice(list(model.keys()))\n",
        "\n",
        "sentence = start_pair.split()\n",
        "\n",
        "while len(sentence) < N:\n",
        "    key = sentence[-2] + \" \" + sentence[-1]\n",
        "    next_word = model[key].generate()\n",
        "    sentence.append(next_word)\n",
        "\n",
        "print(\" \".join(sentence))"
      ],
      "metadata": {
        "colab": {
          "base_uri": "https://localhost:8080/"
        },
        "id": "POgVRHulfl_F",
        "outputId": "e4a05588-7044-4c10-cfe7-fc4c417f6263"
      },
      "execution_count": 34,
      "outputs": [
        {
          "output_type": "stream",
          "name": "stdout",
          "text": [
            "Я ДО ИЗВЕСТНОЙ СТЕПЕНИ ПОДОБНЫМ СЕБЕ А В СЛЕДУЮЩЕМ ДОМЕ\n"
          ]
        }
      ]
    },
    {
      "cell_type": "code",
      "source": [
        "N = 10\n",
        "\n",
        "start_pair = \"НЫНЧЕ ВЕТРЕНО\"\n",
        "\n",
        "sentence = start_pair.split()\n",
        "\n",
        "while len(sentence) < N:\n",
        "    key = sentence[-2] + \" \" + sentence[-1]\n",
        "    next_word = model[key].generate()\n",
        "    sentence.append(next_word)\n",
        "\n",
        "print(\" \".join(sentence))"
      ],
      "metadata": {
        "colab": {
          "base_uri": "https://localhost:8080/"
        },
        "id": "bPJ_0NzsgqPi",
        "outputId": "f150dfab-2abe-4179-ad30-b7fbbea01d70"
      },
      "execution_count": 35,
      "outputs": [
        {
          "output_type": "stream",
          "name": "stdout",
          "text": [
            "НЫНЧЕ ВЕТРЕНО И ВЕЧНО КАК ОБЛАКА БЛЕСТЯЩИЕ В ОКНЕ МАЯЧАТ\n"
          ]
        }
      ]
    },
    {
      "cell_type": "markdown",
      "source": [
        "4-GRAMMS"
      ],
      "metadata": {
        "id": "z8BPwhFusPDv"
      }
    },
    {
      "cell_type": "code",
      "source": [
        "# Define the Markov model\n",
        "premodel = nltk.probability.ConditionalFreqDist()\n",
        "\n",
        "words = nltk.word_tokenize(text)\n",
        "\n",
        "for i in range(len(words)-3):\n",
        "    key = words[i] + \" \" + words[i+1] + \" \" + words[i+2]\n",
        "    premodel[key][words[i+3]] += 1"
      ],
      "metadata": {
        "id": "IVSTY8rzhW-d"
      },
      "execution_count": 37,
      "outputs": []
    },
    {
      "cell_type": "code",
      "source": [
        "start_tri = \"Я И НЕ\"\n",
        "premodel[start_tri]"
      ],
      "metadata": {
        "colab": {
          "base_uri": "https://localhost:8080/"
        },
        "id": "aRx9PEQShulj",
        "outputId": "e7727d58-444c-404e-e4d1-5d2d684917f7"
      },
      "execution_count": 39,
      "outputs": [
        {
          "output_type": "execute_result",
          "data": {
            "text/plain": [
              "FreqDist({'СПРАШИВАЮ': 1})"
            ]
          },
          "metadata": {},
          "execution_count": 39
        }
      ]
    },
    {
      "cell_type": "code",
      "source": [
        "model = nltk.ConditionalProbDist(premodel, nltk.MLEProbDist)\n",
        "len(model)"
      ],
      "metadata": {
        "colab": {
          "base_uri": "https://localhost:8080/"
        },
        "outputId": "a03de04a-9a77-45c1-a3e3-82b38a3babae",
        "id": "Dxl7Vrb5jJOR"
      },
      "execution_count": 40,
      "outputs": [
        {
          "output_type": "execute_result",
          "data": {
            "text/plain": [
              "159539"
            ]
          },
          "metadata": {},
          "execution_count": 40
        }
      ]
    },
    {
      "cell_type": "code",
      "source": [
        "start_tri = \"НУ И ЧТО\"\n",
        "model[start_tri]"
      ],
      "metadata": {
        "colab": {
          "base_uri": "https://localhost:8080/"
        },
        "outputId": "c0169e0d-7fca-45e4-9735-f7a148c2dce0",
        "id": "EZcPK-ADjh84"
      },
      "execution_count": 41,
      "outputs": [
        {
          "output_type": "execute_result",
          "data": {
            "text/plain": [
              "<MLEProbDist based on 1 samples>"
            ]
          },
          "metadata": {},
          "execution_count": 41
        }
      ]
    },
    {
      "cell_type": "code",
      "source": [
        "N = 10\n",
        "\n",
        "# Generate a new sentence\n",
        "start_tri = random.choice(list(model.keys()))\n",
        "\n",
        "sentence = start_tri.split()\n",
        "\n",
        "while len(sentence) < N:\n",
        "    key = sentence[-3] + \" \" + sentence[-2] + \" \" + sentence[-1]\n",
        "    next_word = model[key].generate()\n",
        "    sentence.append(next_word)\n",
        "\n",
        "print(\" \".join(sentence))"
      ],
      "metadata": {
        "colab": {
          "base_uri": "https://localhost:8080/"
        },
        "id": "__BrXNBqj4d2",
        "outputId": "d26a1550-72bd-40fb-832f-292934de7029"
      },
      "execution_count": 42,
      "outputs": [
        {
          "output_type": "stream",
          "name": "stdout",
          "text": [
            "В АМАЛЬГАМЕ СУТЬ В ОТРАЖЕННОМ ВЧЕРА В СТОЛБИКЕ БУДЕТ ПАДАТЬ\n"
          ]
        }
      ]
    },
    {
      "cell_type": "code",
      "source": [
        "N = 50\n",
        "\n",
        "start_tri = \"НЕУЖЕЛИ НЕ Я\"\n",
        "\n",
        "sentence = start_tri.split()\n",
        "\n",
        "while len(sentence) < N:\n",
        "    key = sentence[-3] + \" \" + sentence[-2] + \" \" + sentence[-1]\n",
        "    next_word = model[key].generate()\n",
        "    sentence.append(next_word)\n",
        "\n",
        "print(\" \".join(sentence))"
      ],
      "metadata": {
        "colab": {
          "base_uri": "https://localhost:8080/"
        },
        "id": "PcANTTeAkKbE",
        "outputId": "6b5ef0f6-82cf-4ee0-a618-abbbe78c9ab9"
      },
      "execution_count": 48,
      "outputs": [
        {
          "output_type": "stream",
          "name": "stdout",
          "text": [
            "НЕУЖЕЛИ НЕ Я ЧТО-ТО ЗДЕСЬ НАВСЕГДА ИЗМЕНИЛОСЬ КТО-ТО НОВЫЙ ЦАРИТ БЕЗЫМЯННЫЙ ПРЕКРАСНЫЙ ВСЕСИЛЬНЫЙ НАД ОТЧИЗНОЙ ГОРИТ РАЗЛИВАЕТСЯ СВЕТ ТЕМНО-СИНИЙ И В ГЛАЗАХ У НАС ВИЛИСЬ ВЕРШИНЫ В ЦЕНТРЕ КОМНАТЫ СПЛЕЛИСЬ Я ВГЛЯДЫВАЛСЯ В КОМНАТУ ТРЕЗВЕЙ ВСЕ БЫЛО ЛИШЬ ШУРШАНИЕ ВЕТВЕЙ НИ ХВОЯ НИ ЛИСТВА ИХ НЕ ВИДНА ЗИМА ДЛЯ НИХ\n"
          ]
        }
      ]
    },
    {
      "cell_type": "markdown",
      "source": [
        "5-GRAMMS"
      ],
      "metadata": {
        "id": "ZhF3J1XJmhrm"
      }
    },
    {
      "cell_type": "code",
      "source": [
        "# Define the Markov model\n",
        "premodel = nltk.probability.ConditionalFreqDist()\n",
        "\n",
        "words = nltk.word_tokenize(text)\n",
        "\n",
        "for i in range(len(words)-4):\n",
        "    key = words[i] + \" \" + words[i+1] + \" \" + words[i+2] + \" \" + words[i+3]\n",
        "    premodel[key][words[i+4]] += 1"
      ],
      "metadata": {
        "id": "a7VEzAo5mqSu"
      },
      "execution_count": 49,
      "outputs": []
    },
    {
      "cell_type": "code",
      "source": [
        "start_tri = \"РЯДОМ С НИМ —\"\n",
        "premodel[start_tri]"
      ],
      "metadata": {
        "colab": {
          "base_uri": "https://localhost:8080/"
        },
        "id": "ztmqmPKNm5IJ",
        "outputId": "30ae3471-b95b-4575-a675-3e7d01b630b2"
      },
      "execution_count": 56,
      "outputs": [
        {
          "output_type": "execute_result",
          "data": {
            "text/plain": [
              "FreqDist({'ЛЕГИОНЕР': 1, 'МЕЦЦО-СОПРАНО': 1})"
            ]
          },
          "metadata": {},
          "execution_count": 56
        }
      ]
    },
    {
      "cell_type": "code",
      "source": [
        "model = nltk.ConditionalProbDist(premodel, nltk.MLEProbDist)\n",
        "len(model)"
      ],
      "metadata": {
        "colab": {
          "base_uri": "https://localhost:8080/"
        },
        "id": "S8wDvMUYnJoE",
        "outputId": "8897bbfe-33a5-4a51-f58e-af3e9e773126"
      },
      "execution_count": 52,
      "outputs": [
        {
          "output_type": "execute_result",
          "data": {
            "text/plain": [
              "163202"
            ]
          },
          "metadata": {},
          "execution_count": 52
        }
      ]
    },
    {
      "cell_type": "code",
      "source": [
        "N = 200\n",
        "\n",
        "start_q = \"НЫНЧЕ ВЕТРЕНО И ВОЛНЫ\"\n",
        "\n",
        "sentence = start_q.split()\n",
        "\n",
        "while len(sentence) < N:\n",
        "    key = sentence[-4] + \" \" + sentence[-3] + \" \" + sentence[-2] + \" \" + sentence[-1]\n",
        "    next_word = model[key].generate()\n",
        "    sentence.append(next_word)\n",
        "\n",
        "print(\" \".join(sentence))"
      ],
      "metadata": {
        "colab": {
          "base_uri": "https://localhost:8080/"
        },
        "id": "Vq2Z6w0YnUZk",
        "outputId": "dd247b4c-e55d-483d-9393-876e0a09285f"
      },
      "execution_count": 55,
      "outputs": [
        {
          "output_type": "stream",
          "name": "stdout",
          "text": [
            "НЫНЧЕ ВЕТРЕНО И ВОЛНЫ С ПЕРЕХЛЕСТОМ СКОРО ОСЕНЬ ВСЕ ИЗМЕНИТСЯ В ОКРУГЕ СМЕНА КРАСОК ЭТИХ ТРОГАТЕЛЬНЕЙ ПОСТУМ ЧЕМ НАРЯДА ПЕРЕМЕНА У ПОДРУГИ ДЕВА ТЕШИТ ДО ИЗВЕСТНОГО ПРЕДЕЛА — ДАЛЬШЕ ЛОКТЯ НЕ ПОЙДЕШЬ ИЛИ КОЛЕНА СКОЛЬ ЖЕ РАДОСТНЕЙ ПРЕКРАСНОЕ ВНЕ ТЕЛА НИ ОБЪЯТЬЯ НЕВОЗМОЖНЫ НИ ИЗМЕНА ПОСЫЛАЮ ТЕБЕ ПОСТУМ ЭТИ КНИГИ ЧТО В СТОЛИЦЕ МЯГКО СТЕЛЮТ СПАТЬ НЕ ЖЕСТКО КАК ТАМ ЦЕЗАРЬ ЧЕМ ОН ЗАНЯТ ВСЕ ИНТРИГИ ВСЕ ИНТРИГИ ВЕРОЯТНО ДА ОБЖОРСТВО Я СИЖУ В СВОЕМ САДУ ГОРИТ СВЕТИЛЬНИК НИ ПОДРУГИ НИ ПРИСЛУГИ НИ ЗНАКОМЫХ ВМЕСТО СЛАБЫХ МИРА ЭТОГО И СИЛЬНЫХ — ЛИШЬ СОГЛАСНОЕ ГУДЕНЬЕ НАСЕКОМЫХ ЗДЕСЬ ЛЕЖИТ КУПЕЦ ИЗ АЗИИ ТОЛКОВЫМ БЫЛ КУПЦОМ ОН — ДЕЛОВИТ НО НЕЗАМЕТЕН УМЕР БЫСТРО — ЛИХОРАДКА ПО ТОРГОВЫМ ОН ДЕЛАМ СЮДА ПРИПЛЫЛ А НЕ ЗА ЭТИМ РЯДОМ С НИМ — МЕЦЦО-СОПРАНО В ПРОДУКТОВОМ — КОТ НАПЛАКАЛ БРОДЯТ КРЫСЫ БАКАЛЕЯ ПРЯЧА ТВЕРДЫЙ РОГ В КАРАКУЛЬ НЕКТО В БРЮКАХ ИЗ БАРАНА ПРЕВРАЩАЕТСЯ В ТИРАНА НА ТРИБУНЕ МАВЗОЛЕЯ ГОВОРЯТ ЛИХИЕ ЛЮДИ ЧТО ВНУТРИ РАЗОЧАРОВАН ПОД КОНЕЦ КАК ФИШ НА БЛЮДЕ ТРУП ЛЕЖИТ НАФАРШИРОВАН ХОРОШО УТРАТИВ РЕЧЬ ВСТАТЬ С ВИНТОВКОЙ ГРОБ СТЕРЕЧЬ НЕ СМОТРИ В ГЛАЗА МНЕ ДЕВА ВСЕ РАВНО ПОЙДЕШЬ НАЛЕВО У ПОПА БЫЛА СОБАКА ОБА УМЕРЛИ ОТ РАКА ВХОДИТ ЛЕВ ТОЛСТОЙ В ПИЖАМЕ ВСЮДУ — ЯСНАЯ\n"
          ]
        }
      ]
    }
  ]
}