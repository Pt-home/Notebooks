{
  "nbformat": 4,
  "nbformat_minor": 0,
  "metadata": {
    "colab": {
      "provenance": [],
      "authorship_tag": "ABX9TyNYkkDqnw+0LIF1JcgbeB+l",
      "include_colab_link": true
    },
    "kernelspec": {
      "name": "python3",
      "display_name": "Python 3"
    },
    "language_info": {
      "name": "python"
    }
  },
  "cells": [
    {
      "cell_type": "markdown",
      "metadata": {
        "id": "view-in-github",
        "colab_type": "text"
      },
      "source": [
        "<a href=\"https://colab.research.google.com/github/Pt-home/Notebooks/blob/main/Nomades2_0_01_%D0%A6%D0%B5%D0%BF%D0%B8_%D0%9C%D0%B0%D1%80%D0%BA%D0%BE%D0%B2%D0%B0.ipynb\" target=\"_parent\"><img src=\"https://colab.research.google.com/assets/colab-badge.svg\" alt=\"Open In Colab\"/></a>"
      ]
    },
    {
      "cell_type": "code",
      "execution_count": null,
      "metadata": {
        "id": "7MYPnNlaJjaJ"
      },
      "outputs": [],
      "source": [
        "#!pip install numpy"
      ]
    },
    {
      "cell_type": "code",
      "source": [
        "f = 'sample_data/brodsky_poetry.txt'\n",
        "# отправляем в переменную всё содержимое текстового файла\n",
        "text = open(f, encoding='utf8').read()"
      ],
      "metadata": {
        "id": "sG4AJJdfRzvg"
      },
      "execution_count": null,
      "outputs": []
    },
    {
      "cell_type": "code",
      "source": [
        "stop_words = []"
      ],
      "metadata": {
        "id": "YeSb3wgzSnnZ"
      },
      "execution_count": null,
      "outputs": []
    },
    {
      "cell_type": "code",
      "source": [
        "import re\n",
        "\n",
        "text = text.upper()\n",
        "\n",
        "while text.find('  ') != -1:\n",
        "  text = re.sub(r'  ', ' ', text)\n",
        "while text.find('--') != -1:\n",
        "  text = re.sub(r'--', '-', text)\n",
        "\n",
        "text = re.sub(r'\\s-\\s', ' — ', text)\n",
        "text = re.sub(r'[^-А-ЯЁ—\\s]', '', text)"
      ],
      "metadata": {
        "id": "EjtBjfO2Wtl5"
      },
      "execution_count": null,
      "outputs": []
    },
    {
      "cell_type": "code",
      "source": [
        "corpus = text.split()\n",
        "len(corpus)\n",
        "\n",
        "#print(corpus[-1], corpus.count(corpus[-1]))"
      ],
      "metadata": {
        "colab": {
          "base_uri": "https://localhost:8080/"
        },
        "id": "Ihbg6uT_TVMt",
        "outputId": "0074ce51-9d86-41a6-b798-5c58e86d65ab"
      },
      "execution_count": null,
      "outputs": [
        {
          "output_type": "execute_result",
          "data": {
            "text/plain": [
              "165090"
            ]
          },
          "metadata": {},
          "execution_count": 92
        }
      ]
    },
    {
      "cell_type": "markdown",
      "source": [
        "BIGRAMMS"
      ],
      "metadata": {
        "id": "YuBKHYkfm_M0"
      }
    },
    {
      "cell_type": "code",
      "source": [
        "# делаем новую функцию-генератор, которая определит пары слов\n",
        "def make_pairs(corpus):\n",
        "    # перебираем все слова в корпусе, кроме последнего\n",
        "    for i in range(len(corpus)-1):\n",
        "        # генерируем новую пару и возвращаем её как результат работы функции\n",
        "        yield (corpus[i], corpus[i+1])\n",
        "        \n",
        "# вызываем генератор и получаем все пары слов\n",
        "pairs = make_pairs(corpus)"
      ],
      "metadata": {
        "id": "o5rbzZD4cRUt"
      },
      "execution_count": null,
      "outputs": []
    },
    {
      "cell_type": "code",
      "source": [
        "# словарь, на старте пока пустой\n",
        "word_dict = {}\n",
        "\n",
        "# перебираем все слова попарно из нашего списка пар\n",
        "for word_1, word_2 in pairs:\n",
        "    key, value = word_1, word_2\n",
        "    # если первое слово уже есть в словаре\n",
        "    if key in word_dict.keys():\n",
        "        # то добавляем второе слово как возможное продолжение первого\n",
        "        word_dict[key].append(value)\n",
        "    # если же первого слова у нас в словаре не было\n",
        "    else:\n",
        "        # создаём новую запись в словаре и указываем второе слово как продолжение первого\n",
        "        word_dict[key] = [value]"
      ],
      "metadata": {
        "id": "NgUWF4ICdawH"
      },
      "execution_count": null,
      "outputs": []
    },
    {
      "cell_type": "code",
      "source": [
        "len(word_dict)\n"
      ],
      "metadata": {
        "colab": {
          "base_uri": "https://localhost:8080/"
        },
        "id": "9KadPvI0fL3s",
        "outputId": "98cab4c8-fedf-4376-abbb-cdb01cc6c56d"
      },
      "execution_count": null,
      "outputs": [
        {
          "output_type": "execute_result",
          "data": {
            "text/plain": [
              "38287"
            ]
          },
          "metadata": {},
          "execution_count": 95
        }
      ]
    },
    {
      "cell_type": "code",
      "source": [
        "maximum = 0\n",
        "mkey = \"\"\n",
        "for key in word_dict:\n",
        "  if maximum < len(set(word_dict[key])):\n",
        "    maximum = len(set(word_dict[key]))\n",
        "    mkey = key\n",
        "print(mkey, maximum)"
      ],
      "metadata": {
        "colab": {
          "base_uri": "https://localhost:8080/"
        },
        "id": "bhnZX5rLhA-d",
        "outputId": "27bf8920-8ac4-4c3e-bf5e-edf3ec562665"
      },
      "execution_count": null,
      "outputs": [
        {
          "output_type": "stream",
          "name": "stdout",
          "text": [
            "И 3050\n"
          ]
        }
      ]
    },
    {
      "cell_type": "code",
      "source": [
        "import numpy as np\n",
        "\n",
        "first_word = \"НЫНЧЕ\"\n",
        "# случайно выбираем первое слово для старта\n",
        "#first_word = np.random.choice(corpus)"
      ],
      "metadata": {
        "id": "h20qgtcKjypF"
      },
      "execution_count": null,
      "outputs": []
    },
    {
      "cell_type": "code",
      "source": [
        "# делаем наше первое слово первым звеном\n",
        "chain = [first_word]\n",
        "\n",
        "# сколько слов будет в готовом тексте\n",
        "n_words = 100\n",
        "\n",
        "# делаем цикл с нашим количеством слов\n",
        "for i in range(n_words-1):\n",
        "    last_word = chain[-1]\n",
        "    new_key = np.random.choice(word_dict[last_word])\n",
        "    # на каждом шаге добавляем следующее слово из словаря, выбирая его случайным образом из доступных вариантов\n",
        "    chain.append(new_key)\n",
        "\n",
        "# выводим результат\n",
        "result = ' '.join(chain)\n",
        "print(result)"
      ],
      "metadata": {
        "colab": {
          "base_uri": "https://localhost:8080/"
        },
        "id": "xFs2AhRekc0N",
        "outputId": "df2ebfec-01cf-459c-f349-94911e1b9cef"
      },
      "execution_count": null,
      "outputs": [
        {
          "output_type": "stream",
          "name": "stdout",
          "text": [
            "НЫНЧЕ ГЛУХ НО БОЖЕ ИХ РЕЧИ НО БЕЗРАЗЛИЧИЕМ К НЕМУ НЕХВАТКА ХЛЕБА И ЗАВТРАК НА ПОПРАВКУ ВДАЛИ ЛИТЕЙНЫЙ МОСТ А ВЫШЕ ТОЛЬКО ДЛЯ КОРОТАНЬЯ СЛИШКОМ В ГУЛКИХ ДВОРАХ В СЕРДЦЕ В НЕГЛИЖЕ ПОТОМ НУ КАК Я СМОТРЮ Я УЖЕ ЧТОБ ЗАСЕЛИТЬ ВЕРТО- ГРАД ЛЕТИТ ЧЕЛОВЕК НЕ СТЫД РАСТИТЕЛЬНОСТЬЮ ПРОСТРАНСТВУ ВПОРУ ПОДНЯТЬ НЕ ТЫ НЕ НАСТУПАЕТ ЗАБЫТЬЕ ПРИ МНЕ КО МНЕ ЗАКУРИТЬ БУДУ ПРИДУМЫВАТЬ БЕЛЫЕ СЛОВНО В ТИШИ СГИБАЮТСЯ МЕЛЬКАЮТ СТОГА ЗАВАЛИВШИСЬ В НЕБЕ НИ О СЕБЕ И ДЕЛ-ТО ЧТО ИЗ УЛИЦЫ ДОМА ГДЕ УЗОРЫ ОБОЕВ БЫЛАЯ СОТНЯ ВОРОН ПУСТЬ ПОГЛОТИТ — НИЧЕГО НЕ ВЫЙДЕМ В ДЕНЬ ПОСЕРЕДИНЕ ДНЯ А ДЛЯ\n"
          ]
        }
      ]
    },
    {
      "cell_type": "markdown",
      "source": [
        "TRIGRAMS"
      ],
      "metadata": {
        "id": "1_COx4qknFOq"
      }
    },
    {
      "cell_type": "code",
      "source": [
        "# делаем новую функцию-генератор, которая определит тройки слов\n",
        "def make_tri(corpus):\n",
        "    # перебираем все слова в корпусе, кроме 2-х последних\n",
        "    for i in range(len(corpus)-2):\n",
        "        # генерируем новую тройку и возвращаем её как результат работы функции\n",
        "        yield (corpus[i], corpus[i+1], corpus[i+2])\n",
        "        \n",
        "# вызываем генератор и получаем все тройки слов\n",
        "tri = make_tri(corpus)"
      ],
      "metadata": {
        "id": "fjWQkbKqnI9b"
      },
      "execution_count": null,
      "outputs": []
    },
    {
      "cell_type": "code",
      "source": [
        "# словарь, на старте пока пустой\n",
        "word_dict = {}\n",
        "\n",
        "# перебираем все слова потройно из нашего списка троек\n",
        "for word_1, word_2, word_3 in tri:\n",
        "    key, value = word_1 + \" \" + word_2, word_3\n",
        "    # если ключ уже есть в словаре\n",
        "    if key in word_dict.keys():\n",
        "        # то добавляем 3-е слово как возможное продолжение пары из ключа\n",
        "        word_dict[key].append(value)\n",
        "    # если же ключа у нас в словаре не было\n",
        "    else:\n",
        "        # создаём новую запись в словаре и указываем новое слово как продолжение ключа\n",
        "        word_dict[key] = [value]"
      ],
      "metadata": {
        "id": "dSSFHJMcn7Wu"
      },
      "execution_count": null,
      "outputs": []
    },
    {
      "cell_type": "code",
      "source": [
        "len(word_dict)"
      ],
      "metadata": {
        "colab": {
          "base_uri": "https://localhost:8080/"
        },
        "id": "mry-at9hokBS",
        "outputId": "e639290f-d26e-4a57-8502-cce53f8d0988"
      },
      "execution_count": null,
      "outputs": [
        {
          "output_type": "execute_result",
          "data": {
            "text/plain": [
              "129681"
            ]
          },
          "metadata": {},
          "execution_count": 101
        }
      ]
    },
    {
      "cell_type": "code",
      "source": [
        "maximum = 0\n",
        "mkey = \"\"\n",
        "for key in word_dict:\n",
        "  if maximum < len(set(word_dict[key])):\n",
        "    maximum = len(set(word_dict[key]))\n",
        "    mkey = key\n",
        "print(mkey, maximum)"
      ],
      "metadata": {
        "colab": {
          "base_uri": "https://localhost:8080/"
        },
        "id": "34PkfzYApJdr",
        "outputId": "23b9eac8-73e6-4911-bd58-1b9d9106642a"
      },
      "execution_count": null,
      "outputs": [
        {
          "output_type": "stream",
          "name": "stdout",
          "text": [
            "И В 166\n"
          ]
        }
      ]
    },
    {
      "cell_type": "code",
      "source": [
        "first_pair = \"НЫНЧЕ ВЕТРЕНО\"\n",
        "# случайно выбираем первую пару для старта\n",
        "#list_keys = list(word_dict.keys())\n",
        "#first_pair = np.random.choice(list_keys)"
      ],
      "metadata": {
        "id": "aFyfLv28qQ3b"
      },
      "execution_count": null,
      "outputs": []
    },
    {
      "cell_type": "code",
      "source": [
        "# делаем наше первое слово первым звеном\n",
        "chain = first_pair.split()\n",
        "\n",
        "# сколько слов будет в готовом тексте\n",
        "n_words = 100\n",
        "\n",
        "# делаем цикл с нашим количеством слов\n",
        "for i in range(n_words-2):\n",
        "    last_pair = chain[-2] + \" \" + chain[-1] \n",
        "    new_key = np.random.choice(word_dict[last_pair])\n",
        "    # на каждом шаге добавляем следующее слово из словаря, выбирая его случайным образом из доступных вариантов\n",
        "    chain.append(new_key)\n",
        "\n",
        "# выводим результат\n",
        "result = ' '.join(chain)\n",
        "print(result)"
      ],
      "metadata": {
        "colab": {
          "base_uri": "https://localhost:8080/"
        },
        "id": "VBg6Q-1CqiD6",
        "outputId": "ce0375a6-abfc-44d9-ff3f-ddb5f0ddde1d"
      },
      "execution_count": null,
      "outputs": [
        {
          "output_type": "stream",
          "name": "stdout",
          "text": [
            "НЫНЧЕ ВЕТРЕНО И ВОЛНЫ ОТ ПУТИ ТО ВВЕРХ ТО ВНИЗ ТОЛКАЙ ИХ КРЫЛЬЯ КОМКАЙ ДУЙ ДУЙ БОРЕЙ НЕСИ ИХ ПРОЧЬ ВО МГЛЕ ТЫ УВИДИШЬ ЭТО ВЫЗОВЕТ БОЛЬ ТАМ ГДЕ ВСЕ ПОЛНО ЖУЖЖАНЬЯ КРИКУ СВЕТУ БОРЯСЬ ЧТО СИЛ С ВИДЕНЬЕМ ТЬМЫ ПУСТОТ ОТЧАЯННО К СЕБЕ МАЛЬЦА О ЧЕМ В САМОМ ДЕЛЕ И КАК ВСЕГДА ОРУЖЬЕ ОБЗАВЕДЯСЬ КОТОРЫМ КАК-ТО ЛЕГЧЕ ЗАНЯТЬСЯ ГОСУДАРСТВЕННЫМ УСТРОЙСТВОМ ИСТОРИЯ СТРАНЫ ГРУСТНА ОДНАКО НЕЛЬЗЯ СКАЗАТЬ ЧТО ВЫ ИМЕЕТЕ В ВИДУ ОБНАЖЕННОЙ ПАРОЧКИ БЕЙ В БАРАБАН О СВОЕМ БЕСПРАВИИ Я КУРЮ В ТЕМНОТЕ МИМО ПЛОТНО ЗАМКНУТЫХ НА НОЧЬ ГЛЯДЯ СИНИЙ ЗРАЧОК ПОЛОЩЕТ СВОЙ ХРУСТАЛИК СЛЕЗОЙ ДОВОДЯ ЕГО ДО ЛЕДОХОДА\n"
          ]
        }
      ]
    },
    {
      "cell_type": "markdown",
      "source": [
        "4-GRAMMS"
      ],
      "metadata": {
        "id": "z8BPwhFusPDv"
      }
    },
    {
      "cell_type": "code",
      "source": [
        "# делаем новую функцию-генератор, которая определит 4-ки слов\n",
        "def make_quad(corpus):\n",
        "    # перебираем все слова в корпусе, кроме 3-х последних\n",
        "    for i in range(len(corpus)-3):\n",
        "        # генерируем новую тройку и возвращаем её как результат работы функции\n",
        "        yield (corpus[i], corpus[i+1], corpus[i+2], corpus[i+3])\n",
        "        \n",
        "# вызываем генератор и получаем все тройки слов\n",
        "quad = make_quad(corpus)"
      ],
      "metadata": {
        "id": "FkMZSyXjsfFq"
      },
      "execution_count": null,
      "outputs": []
    },
    {
      "cell_type": "code",
      "source": [
        "# словарь, на старте пока пустой\n",
        "word_dict = {}\n",
        "\n",
        "# перебираем все слова по4но из нашего списка 4-к\n",
        "for word_1, word_2, word_3, word_4 in quad:\n",
        "    key, value = word_1 + \" \" + word_2 + \" \" + word_3, word_4\n",
        "    # если ключ уже есть в словаре\n",
        "    if key in word_dict.keys():\n",
        "        # то добавляем 4-е слово как возможное продолжение 3-ки из ключа\n",
        "        word_dict[key].append(value)\n",
        "    # если же ключа у нас в словаре не было\n",
        "    else:\n",
        "        # создаём новую запись в словаре и указываем новое слово как продолжение ключа\n",
        "        word_dict[key] = [value]"
      ],
      "metadata": {
        "id": "pAINXP1bszXz"
      },
      "execution_count": null,
      "outputs": []
    },
    {
      "cell_type": "code",
      "source": [
        "len(word_dict)"
      ],
      "metadata": {
        "colab": {
          "base_uri": "https://localhost:8080/"
        },
        "id": "dbI3UK8rtLj1",
        "outputId": "de171d98-8199-4f08-ddea-1a0ee2e4e552"
      },
      "execution_count": null,
      "outputs": [
        {
          "output_type": "execute_result",
          "data": {
            "text/plain": [
              "159538"
            ]
          },
          "metadata": {},
          "execution_count": 107
        }
      ]
    },
    {
      "cell_type": "code",
      "source": [
        "maximum = 0\n",
        "mkey = \"\"\n",
        "for key in word_dict:\n",
        "  if maximum < len(set(word_dict[key])):\n",
        "    maximum = len(set(word_dict[key]))\n",
        "    mkey = key\n",
        "print(mkey, maximum)"
      ],
      "metadata": {
        "colab": {
          "base_uri": "https://localhost:8080/"
        },
        "id": "OqulKIvWtRjc",
        "outputId": "acbb6f1f-28bb-4256-e4c8-eef16cbe3df8"
      },
      "execution_count": null,
      "outputs": [
        {
          "output_type": "stream",
          "name": "stdout",
          "text": [
            "С В — 88\n"
          ]
        }
      ]
    },
    {
      "cell_type": "code",
      "source": [
        "first_tri = \"ВХОДИТ ПУШКИН В\"\n",
        "# случайно выбираем первую 3-ку для старта\n",
        "#list_keys = list(word_dict.keys())\n",
        "#first_tri = np.random.choice(list_keys)"
      ],
      "metadata": {
        "id": "pBkeaSpatl9q"
      },
      "execution_count": null,
      "outputs": []
    },
    {
      "cell_type": "code",
      "source": [
        "# делаем наше первое слово первым звеном\n",
        "chain = first_tri.split()\n",
        "\n",
        "# сколько слов будет в готовом тексте\n",
        "n_words = 200\n",
        "\n",
        "# делаем цикл с нашим количеством слов\n",
        "for i in range(n_words-3):\n",
        "    last_tri = chain[-3] + \" \" + chain[-2] + \" \" + chain[-1] \n",
        "    new_key = np.random.choice(word_dict[last_tri])\n",
        "    # на каждом шаге добавляем следующее слово из словаря, выбирая его случайным образом из доступных вариантов\n",
        "    chain.append(new_key)\n",
        "\n",
        "# выводим результат\n",
        "result = ' '.join(chain)\n",
        "print(result)"
      ],
      "metadata": {
        "colab": {
          "base_uri": "https://localhost:8080/"
        },
        "id": "4UkbEQ-PtyCK",
        "outputId": "1bd81ada-e875-4dba-f4c5-36fe41ccc57a"
      },
      "execution_count": null,
      "outputs": [
        {
          "output_type": "stream",
          "name": "stdout",
          "text": [
            "ВХОДИТ ПУШКИН В ЛЕТНОМ ШЛЕМЕ В ТОНКИХ ПАЛЬЦАХ — ПАПИРОСА В ЧИСТОМ ПОЛЕ МЧИТСЯ СКОРЫЙ С ОДИНОКИМ ПАССАЖИРОМ И НАРЕЗАННЫЕ КОСО КАК ПОЛТАВСКАЯ КОЛЕСА С ВЫКОВЫРЕННЫМ ПОД ГДОВОМ ПАЛЬЦЕМ СТРЕЛОЧНИКА ЖИРОМ ОЖИВЛЯЮТ СКАТЕРТЬ СНЕГА ПОЛУСТАНКИ И РАЗВИЛКИ ОБДАВАЯ СОДЕРЖИМЫМ ОПРОКИНУТОЙ БУТЫЛКИ ПРЯЧАСЬ В ЛОГОВО СВОЕ ВОЛКИ ВОЮТ -МО ЖИЗНЬ — ОНА КАК ЛОТЕРЕЯ ВЫШЛА ЗАМУЖ ЗА ЕВРЕЯ ДОВЕЛИ СТРАНУ ДО РУЧКИ ДАЙ ЧЕРВОНЕЦ ДО ПОЛУЧКИ ВХОДИТ ГОГОЛЬ В БЕСКОЗЫРКЕ РЯДОМ С НИМ ПОЭТ ДАВНО НЕ БРИТ И КОЕ-КАК ОДЕТ И ГОЛОДЕН ЕГО КОЛОТИТ ДРОЖЬ А МЕЖ ДОМАМИ ЛЬЕТСЯ СЕРЫЙ ДОЖДЬ СВИСАЮТ С ПОДОКОННИКОВ ЦВЕТЫ А ТАМ ВНИЗУ ВЫШАГИВАЕШЬ ТЫ ВОТ ШЕСТВИЕ ПО УЛИЦЕ ИДЕТ ВОТ КОВЫЛЯЕТ МЫШКИН-ИДИОТ В НАКИДКЕ НАД ПАНЕЛЬЮ НАКЛОНЯСЬ — КАК ПОЖИВАЕТЕ ТЕПЕРЬ ЛЮБЕЗНЫЙ КНЯЗЬ УЖЕ СЕНТЯБРЬ И НОВАЯ ЗИМА ЕЩЕ НЕ ОДНОГО СВЕДЕТ С УМА АХ МИЛЫЙ УСПОКОЙТЕСЬ НАКОНЕЦ — ВОТ ПОЗАДИ ВЫШАГИВАЕТ ЛЖЕЦ ПОСАЖЕНА ИЗЯЩНО ГОЛОВА ЛЕЖАТ ВО РТУ ВЕЛИКИЕ СЛОВА А РЯДОМ С НИМ ПОЭТ ДАВНО НЕ БРИТ И КОЕ-КАК ОДЕТ И ГОЛОДЕН ЕГО КОЛОТИТ ДРОЖЬ А МЕЖ ДОМАМИ ЛЬЕТСЯ СЕРЫЙ ДОЖДЬ СВИСАЮТ С ПОДОКОННИКОВ ЦВЕТЫ А ТАМ ВНИЗУ ВЫШАГИВАЕШЬ ТЫ ВОТ ШЕСТВИЕ ПО УЛИЦЕ ИДЕТ ПОЭМА ПРИБЛИЖАЕТСЯ К КОНЦУ ЧИТАТЕЛЬ РАД Я ВИЖУ ПО ЛИЦУ А НАПЛЕВАТЬ Я СТОЛЬКО ГОВОРИЛ ПРИКИДЫВАЛСЯ УМНИЧАЛ ОСТРИЛ\n"
          ]
        }
      ]
    }
  ]
}